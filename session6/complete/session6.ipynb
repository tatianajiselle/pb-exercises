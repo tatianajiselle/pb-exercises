{
 "cells": [
  {
   "cell_type": "code",
   "execution_count": 1,
   "metadata": {},
   "outputs": [],
   "source": [
    "# import everything and define a test runner function\n",
    "from importlib import reload\n",
    "from helper import run_test\n",
    "\n",
    "import block\n",
    "import ecc\n",
    "import helper\n",
    "import script\n",
    "import tx"
   ]
  },
  {
   "cell_type": "markdown",
   "metadata": {},
   "source": [
    "### Exercise 1\n",
    "\n",
    "#### 1.1. Make [this test](/edit/session6/tx.py) pass\n",
    "```\n",
    "tx.py:TxTest:test_is_coinbase\n",
    "```"
   ]
  },
  {
   "cell_type": "code",
   "execution_count": 2,
   "metadata": {},
   "outputs": [
    {
     "name": "stderr",
     "output_type": "stream",
     "text": [
      ".\n",
      "----------------------------------------------------------------------\n",
      "Ran 1 test in 0.001s\n",
      "\n",
      "OK\n"
     ]
    }
   ],
   "source": [
    "# Exercise 1.1\n",
    "\n",
    "reload(tx)\n",
    "run_test(tx.TxTest('test_is_coinbase'))"
   ]
  },
  {
   "cell_type": "markdown",
   "metadata": {},
   "source": [
    "### Exercise 2\n",
    "\n",
    "#### 2.1. Make [this test](/edit/session6/tx.py) pass\n",
    "```\n",
    "tx.py:TxTest:test_coinbase_height\n",
    "```"
   ]
  },
  {
   "cell_type": "code",
   "execution_count": 3,
   "metadata": {},
   "outputs": [
    {
     "name": "stderr",
     "output_type": "stream",
     "text": [
      ".\n",
      "----------------------------------------------------------------------\n",
      "Ran 1 test in 0.001s\n",
      "\n",
      "OK\n"
     ]
    }
   ],
   "source": [
    "# Exercise 2.1\n",
    "\n",
    "reload(tx)\n",
    "run_test(tx.TxTest('test_coinbase_height'))"
   ]
  },
  {
   "cell_type": "markdown",
   "metadata": {},
   "source": [
    "### Exercise 3\n",
    "\n",
    "#### 3.1. Find the output address corresponding to this ScriptPubKey\n",
    "```\n",
    "76a914338c84849423992471bffb1a54a8d9b1d69dc28a88ac\n",
    "```\n",
    "\n",
    "#### 3.2. Make [this test](/edit/session6/script.py) pass\n",
    "```\n",
    "script.py:ScriptTest:test_address\n",
    "```"
   ]
  },
  {
   "cell_type": "code",
   "execution_count": 4,
   "metadata": {},
   "outputs": [
    {
     "name": "stdout",
     "output_type": "stream",
     "text": [
      "15hZo812Lx266Dot6T52krxpnhrNiaqHya\n"
     ]
    }
   ],
   "source": [
    "# Exercise 3.1\n",
    "\n",
    "from helper import h160_to_p2pkh_address\n",
    "from script import Script\n",
    "\n",
    "hex_script_pubkey = '76a914338c84849423992471bffb1a54a8d9b1d69dc28a88ac'\n",
    "\n",
    "# bytes.fromhex to get binary\n",
    "script_pubkey = bytes.fromhex(hex_script_pubkey)\n",
    "# parse with Script\n",
    "s = Script.parse(script_pubkey)\n",
    "# get the 3rd element, which should be the hash160\n",
    "h160 = s.elements[2]\n",
    "# convert h160 to p2pkh address\n",
    "print(h160_to_p2pkh_address(h160))"
   ]
  },
  {
   "cell_type": "code",
   "execution_count": 5,
   "metadata": {},
   "outputs": [
    {
     "name": "stderr",
     "output_type": "stream",
     "text": [
      ".\n",
      "----------------------------------------------------------------------\n",
      "Ran 1 test in 0.001s\n",
      "\n",
      "OK\n"
     ]
    }
   ],
   "source": [
    "# Exercise 3.2\n",
    "\n",
    "reload(script)\n",
    "run_test(script.ScriptTest('test_address'))"
   ]
  },
  {
   "cell_type": "markdown",
   "metadata": {},
   "source": [
    "### Exercise 4\n",
    "\n",
    "#### 4.1. What is the double_sha256 of this block? Notice anything?\n",
    "```\n",
    "020000208ec39428b17323fa0ddec8e887b4a7c53b8c0a0a220cfd0000000000000000005b0750fce0a889502d40508d39576821155e9c9e3f5c3157f961db38fd8b25be1e77a759e93c0118a4ffd71d\n",
    "```\n",
    "\n",
    "#### 4.2. Make [these tests](/edit/session6/block.py) pass.\n",
    "```\n",
    "block.py:BlockTest:test_parse\n",
    "block.py:BlockTest:test_serialize\n",
    "block.py:BlockTest:test_hash\n",
    "```"
   ]
  },
  {
   "cell_type": "code",
   "execution_count": 6,
   "metadata": {},
   "outputs": [
    {
     "name": "stdout",
     "output_type": "stream",
     "text": [
      "2375044d646ad73594dd0b37b113becdb03964584c9e7e000000000000000000\n"
     ]
    }
   ],
   "source": [
    "# Exercise 4.1\n",
    "\n",
    "from helper import double_sha256\n",
    "\n",
    "hex_block = '020000208ec39428b17323fa0ddec8e887b4a7c53b8c0a0a220cfd0000000000000000005b0750fce0a889502d40508d39576821155e9c9e3f5c3157f961db38fd8b25be1e77a759e93c0118a4ffd71d'\n",
    "\n",
    "# bytes.fromhex to get the binary\n",
    "bin_block = bytes.fromhex(hex_block)\n",
    "# double_sha256 the result\n",
    "result = double_sha256(bin_block)\n",
    "# hex() to see what it looks like\n",
    "print(result.hex())"
   ]
  },
  {
   "cell_type": "code",
   "execution_count": 7,
   "metadata": {
    "scrolled": true
   },
   "outputs": [
    {
     "name": "stderr",
     "output_type": "stream",
     "text": [
      ".\n",
      "----------------------------------------------------------------------\n",
      "Ran 1 test in 0.001s\n",
      "\n",
      "OK\n",
      ".\n",
      "----------------------------------------------------------------------\n",
      "Ran 1 test in 0.001s\n",
      "\n",
      "OK\n",
      ".\n",
      "----------------------------------------------------------------------\n",
      "Ran 1 test in 0.002s\n",
      "\n",
      "OK\n"
     ]
    }
   ],
   "source": [
    "# Exercise 4.2\n",
    "\n",
    "reload(block)\n",
    "run_test(block.BlockTest('test_parse'))\n",
    "run_test(block.BlockTest('test_serialize'))\n",
    "run_test(block.BlockTest('test_hash'))"
   ]
  },
  {
   "cell_type": "code",
   "execution_count": 8,
   "metadata": {},
   "outputs": [
    {
     "name": "stdout",
     "output_type": "stream",
     "text": [
      "BIP9: True\n",
      "BIP91: False\n",
      "BIP141: True\n"
     ]
    }
   ],
   "source": [
    "# Version Signaling Example\n",
    "\n",
    "from io import BytesIO\n",
    "from block import Block\n",
    "\n",
    "hex_block = '020000208ec39428b17323fa0ddec8e887b4a7c53b8c0a0a220cfd0000000000000000005b0750fce0a889502d40508d39576821155e9c9e3f5c3157f961db38fd8b25be1e77a759e93c0118a4ffd71d'\n",
    "\n",
    "# bytes.fromhex to get the binary block\n",
    "bin_block = bytes.fromhex(hex_block)\n",
    "# create a stream using BytesIO\n",
    "stream = BytesIO(bin_block)\n",
    "# parse the block\n",
    "b = Block.parse(stream)\n",
    "# get the version\n",
    "version = b.version\n",
    "# rightshift 29 (version >> 29) and see if it's equal to 0b001 for BIP9\n",
    "print('BIP9: {}'.format(version >> 29 == 0b001))\n",
    "# see if bit 4 (version >> 4) from the right is set ( & 1) for BIP91\n",
    "print('BIP91: {}'.format(version >> 4 & 1 == 1))\n",
    "# see if bit 1 (version >> 1) from the right is set ( & 1) for BIP141\n",
    "print('BIP141: {}'.format(version >> 1 & 1 == 1))"
   ]
  },
  {
   "cell_type": "markdown",
   "metadata": {},
   "source": [
    "### Exercise 5\n",
    "\n",
    "#### 5.1. Make [these tests](/edit/session6/block.py) pass.\n",
    "```\n",
    "block.py:BlockTest:test_bip9\n",
    "block.py:BlockTest:test_bip91\n",
    "block.py:BlockTest:test_bip141\n",
    "```"
   ]
  },
  {
   "cell_type": "code",
   "execution_count": 9,
   "metadata": {},
   "outputs": [
    {
     "name": "stderr",
     "output_type": "stream",
     "text": [
      ".\n",
      "----------------------------------------------------------------------\n",
      "Ran 1 test in 0.001s\n",
      "\n",
      "OK\n",
      ".\n",
      "----------------------------------------------------------------------\n",
      "Ran 1 test in 0.001s\n",
      "\n",
      "OK\n",
      ".\n",
      "----------------------------------------------------------------------\n",
      "Ran 1 test in 0.001s\n",
      "\n",
      "OK\n"
     ]
    }
   ],
   "source": [
    "# Exercise 5.1\n",
    "\n",
    "reload(block)\n",
    "run_test(block.BlockTest('test_bip9'))\n",
    "run_test(block.BlockTest('test_bip91'))\n",
    "run_test(block.BlockTest('test_bip141'))"
   ]
  },
  {
   "cell_type": "code",
   "execution_count": 10,
   "metadata": {},
   "outputs": [
    {
     "name": "stdout",
     "output_type": "stream",
     "text": [
      "0000000000000000013ce9000000000000000000000000000000000000000000\n"
     ]
    }
   ],
   "source": [
    "# Calculating Target from Bits Example\n",
    "\n",
    "from helper import little_endian_to_int\n",
    "\n",
    "bits = bytes.fromhex('e93c0118')\n",
    "exponent = bits[-1]\n",
    "coefficient = little_endian_to_int(bits[:-1])\n",
    "target = coefficient*2**(8*(exponent-3))\n",
    "print('{:x}'.format(target).zfill(64))"
   ]
  },
  {
   "cell_type": "code",
   "execution_count": 11,
   "metadata": {},
   "outputs": [
    {
     "name": "stdout",
     "output_type": "stream",
     "text": [
      "888171856257\n"
     ]
    }
   ],
   "source": [
    "# Calculating Difficulty from Target Example\n",
    "\n",
    "from helper import little_endian_to_int\n",
    "\n",
    "bits = bytes.fromhex('e93c0118')\n",
    "exponent = bits[-1]\n",
    "coefficient = little_endian_to_int(bits[:-1])\n",
    "target = coefficient*2**(8*(exponent-3))\n",
    "\n",
    "bits_min = bytes.fromhex('ffff001d')\n",
    "exponent_min = bits_min[-1]\n",
    "coefficient_min = little_endian_to_int(bits_min[:-1])\n",
    "min = coefficient_min*2**(8*(exponent_min-3))\n",
    "\n",
    "difficulty = min // target\n",
    "print(difficulty)"
   ]
  },
  {
   "cell_type": "markdown",
   "metadata": {},
   "source": [
    "### Exercise 6\n",
    "\n",
    "#### 6.1. Calculate the target and difficulty for these bits:\n",
    "```\n",
    "f2881718\n",
    "```\n",
    "\n",
    "#### 6.2. Make [this test](/edit/session6/block.py) pass.\n",
    "```\n",
    "block.py:BlockTest:test_target\n",
    "```"
   ]
  },
  {
   "cell_type": "code",
   "execution_count": 12,
   "metadata": {},
   "outputs": [
    {
     "name": "stdout",
     "output_type": "stream",
     "text": [
      "00000000000000001788f2000000000000000000000000000000000000000000\n",
      "46717549644.70642\n"
     ]
    }
   ],
   "source": [
    "# Exercise 6.1\n",
    "\n",
    "from helper import little_endian_to_int\n",
    "\n",
    "hex_bits = 'f2881718'\n",
    "\n",
    "# bytes.fromhex to get the bits\n",
    "bits = bytes.fromhex(hex_bits)\n",
    "# last byte is exponent\n",
    "exponent = bits[-1]\n",
    "# first three bytes are the coefficient in little endian\n",
    "coefficient = little_endian_to_int(bits[:-1])\n",
    "# plug into formula coefficient * 2^(8*(exponent-3)) to get the target\n",
    "target = coefficient * 2**(8*(exponent-3))\n",
    "# print target using print('{:x}'.format(target).zfill(64))\n",
    "print('{:x}'.format(target).zfill(64))\n",
    "\n",
    "hex_min_bits = 'ffff001d'\n",
    "# do the same for the min_bits for min target\n",
    "min_bits = bytes.fromhex(hex_min_bits)\n",
    "min_exponent = min_bits[-1]\n",
    "min_coefficient = little_endian_to_int(min_bits[:-1])\n",
    "min_target = min_coefficient * 2**(8*(min_exponent-3))\n",
    "\n",
    "# difficulty is min target / target\n",
    "difficulty = min_target / target\n",
    "print(difficulty)"
   ]
  },
  {
   "cell_type": "code",
   "execution_count": 13,
   "metadata": {},
   "outputs": [
    {
     "name": "stderr",
     "output_type": "stream",
     "text": [
      ".\n",
      "----------------------------------------------------------------------\n",
      "Ran 1 test in 0.001s\n",
      "\n",
      "OK\n"
     ]
    }
   ],
   "source": [
    "# Exercise 6.2\n",
    "\n",
    "reload(block)\n",
    "run_test(block.BlockTest('test_target'))"
   ]
  },
  {
   "cell_type": "markdown",
   "metadata": {},
   "source": [
    "### Exercise 7\n",
    "\n",
    "#### 7.1.Validate the proof-of-work for this block\n",
    "```\n",
    "04000000fbedbbf0cfdaf278c094f187f2eb987c86a199da22bbb20400000000000000007b7697b29129648fa08b4bcd13c9d5e60abb973a1efac9c8d573c71c807c56c3d6213557faa80518c3737ec1\n",
    "```\n",
    "\n",
    "#### 7.2. Make [this test](/edit/session6/block.py) pass.\n",
    "```\n",
    "block.py:BlockTest:test_check_pow\n",
    "```"
   ]
  },
  {
   "cell_type": "code",
   "execution_count": 14,
   "metadata": {},
   "outputs": [
    {
     "name": "stdout",
     "output_type": "stream",
     "text": [
      "True\n"
     ]
    }
   ],
   "source": [
    "# Exercise 7.1\n",
    "\n",
    "from io import BytesIO\n",
    "from helper import double_sha256, little_endian_to_int\n",
    "from block import Block\n",
    "\n",
    "hex_block = '04000000fbedbbf0cfdaf278c094f187f2eb987c86a199da22bbb20400000000000000007b7697b29129648fa08b4bcd13c9d5e60abb973a1efac9c8d573c71c807c56c3d6213557faa80518c3737ec1'\n",
    "\n",
    "# bytes.fromhex to get the binary block\n",
    "bin_block = bytes.fromhex(hex_block)\n",
    "# double_sha256 the block\n",
    "sha = double_sha256(bin_block)\n",
    "# interpret the result as a number in little endian\n",
    "proof = little_endian_to_int(sha)\n",
    "# make a stream using BytesIO\n",
    "stream = BytesIO(bin_block)\n",
    "# parse the Block\n",
    "b = Block.parse(stream)\n",
    "# get the target\n",
    "target = b.target()\n",
    "# check proof of work < target\n",
    "print(proof < target)"
   ]
  },
  {
   "cell_type": "code",
   "execution_count": 15,
   "metadata": {},
   "outputs": [
    {
     "name": "stderr",
     "output_type": "stream",
     "text": [
      ".\n",
      "----------------------------------------------------------------------\n",
      "Ran 1 test in 0.001s\n",
      "\n",
      "OK\n"
     ]
    }
   ],
   "source": [
    "# Exercise 7.2\n",
    "\n",
    "reload(block)\n",
    "run_test(block.BlockTest('test_check_pow'))"
   ]
  }
 ],
 "metadata": {
  "kernelspec": {
   "display_name": "Python 3",
   "language": "python",
   "name": "python3"
  },
  "language_info": {
   "codemirror_mode": {
    "name": "ipython",
    "version": 3
   },
   "file_extension": ".py",
   "mimetype": "text/x-python",
   "name": "python",
   "nbconvert_exporter": "python",
   "pygments_lexer": "ipython3",
   "version": "3.5.2"
  }
 },
 "nbformat": 4,
 "nbformat_minor": 2
}
